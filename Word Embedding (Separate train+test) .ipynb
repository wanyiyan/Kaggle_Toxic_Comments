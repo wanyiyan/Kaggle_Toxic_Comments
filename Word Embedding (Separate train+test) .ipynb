{
 "cells": [
  {
   "cell_type": "markdown",
   "metadata": {},
   "source": [
    "# Word Embedding feature engineering"
   ]
  },
  {
   "cell_type": "code",
   "execution_count": 1,
   "metadata": {},
   "outputs": [
    {
     "name": "stderr",
     "output_type": "stream",
     "text": [
      "C:\\Users\\wanyi\\Anaconda3\\lib\\site-packages\\statsmodels\\tools\\_testing.py:19: FutureWarning: pandas.util.testing is deprecated. Use the functions in the public API at pandas.testing instead.\n",
      "  import pandas.util.testing as tm\n"
     ]
    }
   ],
   "source": [
    "import pandas as pd\n",
    "from gensim.models.doc2vec import Doc2Vec, TaggedDocument\n",
    "from nltk.tokenize import word_tokenize\n",
    "import seaborn as sns\n",
    "import matplotlib.pyplot as plt"
   ]
  },
  {
   "cell_type": "code",
   "execution_count": 2,
   "metadata": {},
   "outputs": [],
   "source": [
    "train_clean = pd.read_csv(\"C:/Users/wanyi/Desktop/Uchicago/Kaggle projects/Toxic Comments/Word Embedding (pre-model)/train_clean.csv\")\n",
    "test_clean  = pd.read_csv(\"C:/Users/wanyi/Desktop/Uchicago/Kaggle projects/Toxic Comments/Word Embedding (pre-model)/test_clean.csv\")"
   ]
  },
  {
   "cell_type": "code",
   "execution_count": 3,
   "metadata": {},
   "outputs": [
    {
     "name": "stdout",
     "output_type": "stream",
     "text": [
      "[4482, 23529, 151379]\n"
     ]
    }
   ],
   "source": [
    "### Train  \n",
    "### finding all the rows not in str format but float \n",
    "train_clean_comment = train_clean.comment_text_clean.tolist()\n",
    "\n",
    "train_list_not_string =[]\n",
    "for i in range(len(train_clean_comment)):\n",
    "    if type((train_clean_comment[i])) != str:\n",
    "        train_list_not_string.append(i)\n",
    "\n",
    "print(train_list_not_string)\n",
    "        \n",
    "for i in train_list_not_string:\n",
    "    train_clean_comment[i] = str(train_clean_comment[i])"
   ]
  },
  {
   "cell_type": "code",
   "execution_count": 4,
   "metadata": {},
   "outputs": [
    {
     "name": "stdout",
     "output_type": "stream",
     "text": [
      "[6533, 45734, 82422, 98165, 107815, 118017, 119922, 121816, 139225]\n"
     ]
    }
   ],
   "source": [
    "### Test\n",
    "### finding all the rows not in str format but float \n",
    "\n",
    "test_clean_comment = test_clean.comment_text_clean.tolist()\n",
    "\n",
    "test_list_not_string =[]\n",
    "for i in range(len(test_clean_comment)):\n",
    "    if type((test_clean_comment[i])) != str:\n",
    "        test_list_not_string.append(i)\n",
    "\n",
    "print(test_list_not_string)\n",
    "        \n",
    "for i in test_list_not_string:\n",
    "    test_clean_comment[i] = str(test_clean_comment[i])"
   ]
  },
  {
   "cell_type": "markdown",
   "metadata": {},
   "source": [
    "# Combine train and test together "
   ]
  },
  {
   "cell_type": "code",
   "execution_count": 5,
   "metadata": {},
   "outputs": [
    {
     "name": "stdout",
     "output_type": "stream",
     "text": [
      "159571 153163\n"
     ]
    }
   ],
   "source": [
    "print(len(train_clean_comment), len(test_clean_comment))"
   ]
  },
  {
   "cell_type": "code",
   "execution_count": 6,
   "metadata": {},
   "outputs": [],
   "source": [
    "combined = (train_clean_comment + test_clean_comment)"
   ]
  },
  {
   "cell_type": "markdown",
   "metadata": {},
   "source": [
    "# Doc2Vec model"
   ]
  },
  {
   "cell_type": "code",
   "execution_count": null,
   "metadata": {},
   "outputs": [],
   "source": [
    "max_epochs = 100\n",
    "vec_size = 100\n",
    "alpha = 0.025\n",
    "\n",
    "model = Doc2Vec(size=vec_size,\n",
    "                alpha=alpha, \n",
    "                min_alpha=0.00025,\n",
    "                min_count=1,\n",
    "                dm =1)\n",
    "model.build_vocab(combined)"
   ]
  },
  {
   "cell_type": "code",
   "execution_count": null,
   "metadata": {},
   "outputs": [],
   "source": [
    "for epoch in range(max_epochs):\n",
    "    print('iteration {0}'.format(epoch))\n",
    "    model.train(combined,\n",
    "                total_examples=model.corpus_count,\n",
    "                epochs=model.iter)\n",
    "    # decrease the learning rate\n",
    "    model.alpha -= 0.0002\n",
    "    # fix the learning rate, no decay\n",
    "    model.min_alpha = model.alpha"
   ]
  },
  {
   "cell_type": "code",
   "execution_count": null,
   "metadata": {},
   "outputs": [],
   "source": [
    "model.save(\"toxic.combined.d2v.model\")\n",
    "print(\"Model Saved\")"
   ]
  },
  {
   "cell_type": "code",
   "execution_count": null,
   "metadata": {},
   "outputs": [],
   "source": [
    "from gensim.models.doc2vec import Doc2Vec\n",
    "model= Doc2Vec.load(\"toxic.combined.d2v.model\")"
   ]
  },
  {
   "cell_type": "code",
   "execution_count": null,
   "metadata": {},
   "outputs": [],
   "source": [
    "d2v_list_combined = []\n",
    "for i in range(len(combined)):\n",
    "    d2v_list_combined.append(model.docvecs[i].tolist())"
   ]
  },
  {
   "cell_type": "code",
   "execution_count": null,
   "metadata": {},
   "outputs": [],
   "source": []
  },
  {
   "cell_type": "code",
   "execution_count": null,
   "metadata": {},
   "outputs": [],
   "source": []
  },
  {
   "cell_type": "code",
   "execution_count": null,
   "metadata": {},
   "outputs": [],
   "source": []
  },
  {
   "cell_type": "code",
   "execution_count": null,
   "metadata": {},
   "outputs": [],
   "source": []
  },
  {
   "cell_type": "code",
   "execution_count": null,
   "metadata": {},
   "outputs": [],
   "source": []
  },
  {
   "cell_type": "markdown",
   "metadata": {},
   "source": [
    "# Train doc2vec based on own trian dataset"
   ]
  },
  {
   "cell_type": "code",
   "execution_count": null,
   "metadata": {},
   "outputs": [],
   "source": [
    "tagged_data_train = [TaggedDocument(words=word_tokenize(_d.lower()), tags=[(i)]) for i, _d in enumerate(train_clean_comment)]\n",
    "tagged_data_test = [TaggedDocument(words=word_tokenize(_d.lower()), tags=[(i)]) for i, _d in enumerate(test_clean_comment)]"
   ]
  },
  {
   "cell_type": "code",
   "execution_count": 15,
   "metadata": {},
   "outputs": [
    {
     "name": "stderr",
     "output_type": "stream",
     "text": [
      "C:\\Users\\wanyi\\Anaconda3\\lib\\site-packages\\gensim\\models\\doc2vec.py:574: UserWarning: The parameter `size` is deprecated, will be removed in 4.0.0, use `vector_size` instead.\n",
      "  warnings.warn(\"The parameter `size` is deprecated, will be removed in 4.0.0, use `vector_size` instead.\")\n"
     ]
    }
   ],
   "source": [
    "max_epochs = 100\n",
    "vec_size = 20\n",
    "alpha = 0.025\n",
    "\n",
    "model = Doc2Vec(size=vec_size,\n",
    "                alpha=alpha, \n",
    "                min_alpha=0.00025,\n",
    "                min_count=1,\n",
    "                dm =1)\n",
    "  \n",
    "model.build_vocab(tagged_data_train)"
   ]
  },
  {
   "cell_type": "code",
   "execution_count": 16,
   "metadata": {},
   "outputs": [
    {
     "name": "stdout",
     "output_type": "stream",
     "text": [
      "iteration 0\n"
     ]
    },
    {
     "name": "stderr",
     "output_type": "stream",
     "text": [
      "C:\\Users\\wanyi\\Anaconda3\\lib\\site-packages\\ipykernel_launcher.py:5: DeprecationWarning: Call to deprecated `iter` (Attribute will be removed in 4.0.0, use self.epochs instead).\n",
      "  \"\"\"\n"
     ]
    },
    {
     "name": "stdout",
     "output_type": "stream",
     "text": [
      "iteration 1\n",
      "iteration 2\n",
      "iteration 3\n",
      "iteration 4\n",
      "iteration 5\n",
      "iteration 6\n",
      "iteration 7\n",
      "iteration 8\n",
      "iteration 9\n",
      "iteration 10\n",
      "iteration 11\n",
      "iteration 12\n",
      "iteration 13\n",
      "iteration 14\n",
      "iteration 15\n",
      "iteration 16\n",
      "iteration 17\n",
      "iteration 18\n",
      "iteration 19\n",
      "iteration 20\n",
      "iteration 21\n",
      "iteration 22\n",
      "iteration 23\n",
      "iteration 24\n",
      "iteration 25\n",
      "iteration 26\n",
      "iteration 27\n",
      "iteration 28\n",
      "iteration 29\n",
      "iteration 30\n",
      "iteration 31\n",
      "iteration 32\n",
      "iteration 33\n",
      "iteration 34\n",
      "iteration 35\n",
      "iteration 36\n",
      "iteration 37\n",
      "iteration 38\n",
      "iteration 39\n",
      "iteration 40\n",
      "iteration 41\n",
      "iteration 42\n",
      "iteration 43\n",
      "iteration 44\n",
      "iteration 45\n",
      "iteration 46\n",
      "iteration 47\n",
      "iteration 48\n",
      "iteration 49\n",
      "iteration 50\n",
      "iteration 51\n",
      "iteration 52\n",
      "iteration 53\n",
      "iteration 54\n",
      "iteration 55\n",
      "iteration 56\n",
      "iteration 57\n",
      "iteration 58\n",
      "iteration 59\n",
      "iteration 60\n",
      "iteration 61\n",
      "iteration 62\n",
      "iteration 63\n",
      "iteration 64\n",
      "iteration 65\n",
      "iteration 66\n",
      "iteration 67\n",
      "iteration 68\n",
      "iteration 69\n",
      "iteration 70\n",
      "iteration 71\n",
      "iteration 72\n",
      "iteration 73\n",
      "iteration 74\n",
      "iteration 75\n",
      "iteration 76\n",
      "iteration 77\n",
      "iteration 78\n",
      "iteration 79\n",
      "iteration 80\n",
      "iteration 81\n",
      "iteration 82\n",
      "iteration 83\n",
      "iteration 84\n",
      "iteration 85\n",
      "iteration 86\n",
      "iteration 87\n",
      "iteration 88\n",
      "iteration 89\n",
      "iteration 90\n",
      "iteration 91\n",
      "iteration 92\n",
      "iteration 93\n",
      "iteration 94\n",
      "iteration 95\n",
      "iteration 96\n",
      "iteration 97\n",
      "iteration 98\n",
      "iteration 99\n",
      "Model Saved\n"
     ]
    }
   ],
   "source": [
    "for epoch in range(max_epochs):\n",
    "    print('iteration {0}'.format(epoch))\n",
    "    model.train(tagged_data_train,\n",
    "                total_examples=model.corpus_count,\n",
    "                epochs=model.iter)\n",
    "    # decrease the learning rate\n",
    "    model.alpha -= 0.0002\n",
    "    # fix the learning rate, no decay\n",
    "    model.min_alpha = model.alpha"
   ]
  },
  {
   "cell_type": "code",
   "execution_count": 17,
   "metadata": {},
   "outputs": [
    {
     "name": "stdout",
     "output_type": "stream",
     "text": [
      "Model Saved\n"
     ]
    }
   ],
   "source": [
    "model.save(\"toxic.train.d2v.model\")\n",
    "print(\"Model Saved\")"
   ]
  },
  {
   "cell_type": "code",
   "execution_count": 16,
   "metadata": {},
   "outputs": [],
   "source": [
    "from gensim.models.doc2vec import Doc2Vec\n",
    "model= Doc2Vec.load(\"toxic.train.d2v.model\")"
   ]
  },
  {
   "cell_type": "code",
   "execution_count": 17,
   "metadata": {},
   "outputs": [],
   "source": [
    "d2v_list_train = []\n",
    "for i in range(len(train_clean_comment)):\n",
    "    d2v_list_train.append(model.docvecs[i].tolist())"
   ]
  },
  {
   "cell_type": "code",
   "execution_count": 18,
   "metadata": {},
   "outputs": [
    {
     "data": {
      "text/html": [
       "<div>\n",
       "<style scoped>\n",
       "    .dataframe tbody tr th:only-of-type {\n",
       "        vertical-align: middle;\n",
       "    }\n",
       "\n",
       "    .dataframe tbody tr th {\n",
       "        vertical-align: top;\n",
       "    }\n",
       "\n",
       "    .dataframe thead th {\n",
       "        text-align: right;\n",
       "    }\n",
       "</style>\n",
       "<table border=\"1\" class=\"dataframe\">\n",
       "  <thead>\n",
       "    <tr style=\"text-align: right;\">\n",
       "      <th></th>\n",
       "      <th>0</th>\n",
       "      <th>1</th>\n",
       "      <th>2</th>\n",
       "      <th>3</th>\n",
       "      <th>4</th>\n",
       "      <th>5</th>\n",
       "      <th>6</th>\n",
       "      <th>7</th>\n",
       "      <th>8</th>\n",
       "      <th>9</th>\n",
       "      <th>10</th>\n",
       "      <th>11</th>\n",
       "      <th>12</th>\n",
       "      <th>13</th>\n",
       "      <th>14</th>\n",
       "      <th>15</th>\n",
       "      <th>16</th>\n",
       "      <th>17</th>\n",
       "      <th>18</th>\n",
       "      <th>19</th>\n",
       "    </tr>\n",
       "  </thead>\n",
       "  <tbody>\n",
       "    <tr>\n",
       "      <th>0</th>\n",
       "      <td>9.684196</td>\n",
       "      <td>-7.172304</td>\n",
       "      <td>-2.806706</td>\n",
       "      <td>-3.145821</td>\n",
       "      <td>6.987401</td>\n",
       "      <td>1.788110</td>\n",
       "      <td>-2.732966</td>\n",
       "      <td>-0.563654</td>\n",
       "      <td>-3.918058</td>\n",
       "      <td>1.904755</td>\n",
       "      <td>-1.957033</td>\n",
       "      <td>0.534666</td>\n",
       "      <td>-0.964612</td>\n",
       "      <td>-2.653989</td>\n",
       "      <td>-4.015760</td>\n",
       "      <td>2.808512</td>\n",
       "      <td>1.764603</td>\n",
       "      <td>6.142101</td>\n",
       "      <td>-3.447417</td>\n",
       "      <td>-1.511905</td>\n",
       "    </tr>\n",
       "    <tr>\n",
       "      <th>1</th>\n",
       "      <td>-0.390054</td>\n",
       "      <td>-4.386533</td>\n",
       "      <td>-2.131487</td>\n",
       "      <td>1.094032</td>\n",
       "      <td>3.855737</td>\n",
       "      <td>-2.626902</td>\n",
       "      <td>-4.201839</td>\n",
       "      <td>-4.486324</td>\n",
       "      <td>-1.810591</td>\n",
       "      <td>-0.993393</td>\n",
       "      <td>-4.702813</td>\n",
       "      <td>-3.136093</td>\n",
       "      <td>0.779636</td>\n",
       "      <td>0.757914</td>\n",
       "      <td>-1.238328</td>\n",
       "      <td>-2.045277</td>\n",
       "      <td>0.546471</td>\n",
       "      <td>-2.411158</td>\n",
       "      <td>0.084265</td>\n",
       "      <td>-5.252426</td>\n",
       "    </tr>\n",
       "    <tr>\n",
       "      <th>2</th>\n",
       "      <td>6.465429</td>\n",
       "      <td>-2.894805</td>\n",
       "      <td>-6.346100</td>\n",
       "      <td>-5.431806</td>\n",
       "      <td>0.857631</td>\n",
       "      <td>-0.901943</td>\n",
       "      <td>-0.813791</td>\n",
       "      <td>-2.436920</td>\n",
       "      <td>-1.552713</td>\n",
       "      <td>-1.378949</td>\n",
       "      <td>0.425247</td>\n",
       "      <td>0.579477</td>\n",
       "      <td>-4.540270</td>\n",
       "      <td>1.558311</td>\n",
       "      <td>0.737403</td>\n",
       "      <td>-3.733265</td>\n",
       "      <td>-2.592389</td>\n",
       "      <td>9.017025</td>\n",
       "      <td>-2.887040</td>\n",
       "      <td>-3.215480</td>\n",
       "    </tr>\n",
       "    <tr>\n",
       "      <th>3</th>\n",
       "      <td>3.194785</td>\n",
       "      <td>-0.670035</td>\n",
       "      <td>-3.057459</td>\n",
       "      <td>-0.315029</td>\n",
       "      <td>8.629707</td>\n",
       "      <td>0.885820</td>\n",
       "      <td>-4.299379</td>\n",
       "      <td>-3.415068</td>\n",
       "      <td>-1.233831</td>\n",
       "      <td>-3.843613</td>\n",
       "      <td>1.494226</td>\n",
       "      <td>4.887568</td>\n",
       "      <td>-0.724399</td>\n",
       "      <td>4.741945</td>\n",
       "      <td>-2.217118</td>\n",
       "      <td>-0.993535</td>\n",
       "      <td>1.542564</td>\n",
       "      <td>-2.130059</td>\n",
       "      <td>-4.893396</td>\n",
       "      <td>-1.376003</td>\n",
       "    </tr>\n",
       "    <tr>\n",
       "      <th>4</th>\n",
       "      <td>4.443181</td>\n",
       "      <td>0.835123</td>\n",
       "      <td>1.207921</td>\n",
       "      <td>1.613802</td>\n",
       "      <td>-1.610805</td>\n",
       "      <td>-2.545195</td>\n",
       "      <td>2.777239</td>\n",
       "      <td>-1.472636</td>\n",
       "      <td>-1.492803</td>\n",
       "      <td>-4.236603</td>\n",
       "      <td>-5.336557</td>\n",
       "      <td>-1.125132</td>\n",
       "      <td>0.833627</td>\n",
       "      <td>-3.837846</td>\n",
       "      <td>2.983262</td>\n",
       "      <td>0.747181</td>\n",
       "      <td>-0.262058</td>\n",
       "      <td>2.791092</td>\n",
       "      <td>-3.998071</td>\n",
       "      <td>-2.189060</td>\n",
       "    </tr>\n",
       "    <tr>\n",
       "      <th>...</th>\n",
       "      <td>...</td>\n",
       "      <td>...</td>\n",
       "      <td>...</td>\n",
       "      <td>...</td>\n",
       "      <td>...</td>\n",
       "      <td>...</td>\n",
       "      <td>...</td>\n",
       "      <td>...</td>\n",
       "      <td>...</td>\n",
       "      <td>...</td>\n",
       "      <td>...</td>\n",
       "      <td>...</td>\n",
       "      <td>...</td>\n",
       "      <td>...</td>\n",
       "      <td>...</td>\n",
       "      <td>...</td>\n",
       "      <td>...</td>\n",
       "      <td>...</td>\n",
       "      <td>...</td>\n",
       "      <td>...</td>\n",
       "    </tr>\n",
       "    <tr>\n",
       "      <th>159566</th>\n",
       "      <td>-4.390086</td>\n",
       "      <td>-1.790366</td>\n",
       "      <td>-3.413918</td>\n",
       "      <td>1.895631</td>\n",
       "      <td>5.265527</td>\n",
       "      <td>0.961061</td>\n",
       "      <td>1.439573</td>\n",
       "      <td>-4.900720</td>\n",
       "      <td>0.603062</td>\n",
       "      <td>-5.715709</td>\n",
       "      <td>-8.323190</td>\n",
       "      <td>0.209219</td>\n",
       "      <td>-2.617171</td>\n",
       "      <td>6.166942</td>\n",
       "      <td>-0.328357</td>\n",
       "      <td>3.333582</td>\n",
       "      <td>0.810533</td>\n",
       "      <td>-0.516419</td>\n",
       "      <td>-2.937032</td>\n",
       "      <td>-0.883551</td>\n",
       "    </tr>\n",
       "    <tr>\n",
       "      <th>159567</th>\n",
       "      <td>0.671036</td>\n",
       "      <td>-4.867218</td>\n",
       "      <td>2.028809</td>\n",
       "      <td>-3.751267</td>\n",
       "      <td>-1.602428</td>\n",
       "      <td>-2.085096</td>\n",
       "      <td>2.629291</td>\n",
       "      <td>0.951828</td>\n",
       "      <td>-2.513001</td>\n",
       "      <td>-1.604717</td>\n",
       "      <td>-3.805840</td>\n",
       "      <td>-7.245111</td>\n",
       "      <td>-0.857358</td>\n",
       "      <td>-2.441849</td>\n",
       "      <td>1.889701</td>\n",
       "      <td>-0.801500</td>\n",
       "      <td>-1.741104</td>\n",
       "      <td>1.069351</td>\n",
       "      <td>-3.224479</td>\n",
       "      <td>-1.970961</td>\n",
       "    </tr>\n",
       "    <tr>\n",
       "      <th>159568</th>\n",
       "      <td>-3.061448</td>\n",
       "      <td>-4.550220</td>\n",
       "      <td>-3.195795</td>\n",
       "      <td>-2.685481</td>\n",
       "      <td>2.681088</td>\n",
       "      <td>-0.525121</td>\n",
       "      <td>-4.982052</td>\n",
       "      <td>3.111648</td>\n",
       "      <td>0.211798</td>\n",
       "      <td>-0.718929</td>\n",
       "      <td>-5.320312</td>\n",
       "      <td>1.775576</td>\n",
       "      <td>-0.228616</td>\n",
       "      <td>-3.421994</td>\n",
       "      <td>3.317983</td>\n",
       "      <td>-6.807216</td>\n",
       "      <td>0.348742</td>\n",
       "      <td>1.131370</td>\n",
       "      <td>1.826323</td>\n",
       "      <td>-1.012262</td>\n",
       "    </tr>\n",
       "    <tr>\n",
       "      <th>159569</th>\n",
       "      <td>-0.027129</td>\n",
       "      <td>-5.711600</td>\n",
       "      <td>-1.354861</td>\n",
       "      <td>0.337082</td>\n",
       "      <td>4.535312</td>\n",
       "      <td>-1.021333</td>\n",
       "      <td>-6.801951</td>\n",
       "      <td>1.852875</td>\n",
       "      <td>-2.032740</td>\n",
       "      <td>-3.354227</td>\n",
       "      <td>-0.619819</td>\n",
       "      <td>0.611934</td>\n",
       "      <td>-1.373542</td>\n",
       "      <td>-0.517902</td>\n",
       "      <td>0.937812</td>\n",
       "      <td>0.897780</td>\n",
       "      <td>3.914562</td>\n",
       "      <td>0.660858</td>\n",
       "      <td>-9.422826</td>\n",
       "      <td>-2.776195</td>\n",
       "    </tr>\n",
       "    <tr>\n",
       "      <th>159570</th>\n",
       "      <td>2.230956</td>\n",
       "      <td>-3.209605</td>\n",
       "      <td>2.652989</td>\n",
       "      <td>-3.242421</td>\n",
       "      <td>-1.718875</td>\n",
       "      <td>-0.767085</td>\n",
       "      <td>4.895177</td>\n",
       "      <td>-3.677925</td>\n",
       "      <td>4.330356</td>\n",
       "      <td>-10.244555</td>\n",
       "      <td>-4.831968</td>\n",
       "      <td>-5.006935</td>\n",
       "      <td>-4.176896</td>\n",
       "      <td>6.593065</td>\n",
       "      <td>0.351196</td>\n",
       "      <td>-1.995956</td>\n",
       "      <td>0.946170</td>\n",
       "      <td>1.824111</td>\n",
       "      <td>-2.795269</td>\n",
       "      <td>-3.321651</td>\n",
       "    </tr>\n",
       "  </tbody>\n",
       "</table>\n",
       "<p>159571 rows × 20 columns</p>\n",
       "</div>"
      ],
      "text/plain": [
       "               0         1         2         3         4         5         6  \\\n",
       "0       9.684196 -7.172304 -2.806706 -3.145821  6.987401  1.788110 -2.732966   \n",
       "1      -0.390054 -4.386533 -2.131487  1.094032  3.855737 -2.626902 -4.201839   \n",
       "2       6.465429 -2.894805 -6.346100 -5.431806  0.857631 -0.901943 -0.813791   \n",
       "3       3.194785 -0.670035 -3.057459 -0.315029  8.629707  0.885820 -4.299379   \n",
       "4       4.443181  0.835123  1.207921  1.613802 -1.610805 -2.545195  2.777239   \n",
       "...          ...       ...       ...       ...       ...       ...       ...   \n",
       "159566 -4.390086 -1.790366 -3.413918  1.895631  5.265527  0.961061  1.439573   \n",
       "159567  0.671036 -4.867218  2.028809 -3.751267 -1.602428 -2.085096  2.629291   \n",
       "159568 -3.061448 -4.550220 -3.195795 -2.685481  2.681088 -0.525121 -4.982052   \n",
       "159569 -0.027129 -5.711600 -1.354861  0.337082  4.535312 -1.021333 -6.801951   \n",
       "159570  2.230956 -3.209605  2.652989 -3.242421 -1.718875 -0.767085  4.895177   \n",
       "\n",
       "               7         8          9        10        11        12        13  \\\n",
       "0      -0.563654 -3.918058   1.904755 -1.957033  0.534666 -0.964612 -2.653989   \n",
       "1      -4.486324 -1.810591  -0.993393 -4.702813 -3.136093  0.779636  0.757914   \n",
       "2      -2.436920 -1.552713  -1.378949  0.425247  0.579477 -4.540270  1.558311   \n",
       "3      -3.415068 -1.233831  -3.843613  1.494226  4.887568 -0.724399  4.741945   \n",
       "4      -1.472636 -1.492803  -4.236603 -5.336557 -1.125132  0.833627 -3.837846   \n",
       "...          ...       ...        ...       ...       ...       ...       ...   \n",
       "159566 -4.900720  0.603062  -5.715709 -8.323190  0.209219 -2.617171  6.166942   \n",
       "159567  0.951828 -2.513001  -1.604717 -3.805840 -7.245111 -0.857358 -2.441849   \n",
       "159568  3.111648  0.211798  -0.718929 -5.320312  1.775576 -0.228616 -3.421994   \n",
       "159569  1.852875 -2.032740  -3.354227 -0.619819  0.611934 -1.373542 -0.517902   \n",
       "159570 -3.677925  4.330356 -10.244555 -4.831968 -5.006935 -4.176896  6.593065   \n",
       "\n",
       "              14        15        16        17        18        19  \n",
       "0      -4.015760  2.808512  1.764603  6.142101 -3.447417 -1.511905  \n",
       "1      -1.238328 -2.045277  0.546471 -2.411158  0.084265 -5.252426  \n",
       "2       0.737403 -3.733265 -2.592389  9.017025 -2.887040 -3.215480  \n",
       "3      -2.217118 -0.993535  1.542564 -2.130059 -4.893396 -1.376003  \n",
       "4       2.983262  0.747181 -0.262058  2.791092 -3.998071 -2.189060  \n",
       "...          ...       ...       ...       ...       ...       ...  \n",
       "159566 -0.328357  3.333582  0.810533 -0.516419 -2.937032 -0.883551  \n",
       "159567  1.889701 -0.801500 -1.741104  1.069351 -3.224479 -1.970961  \n",
       "159568  3.317983 -6.807216  0.348742  1.131370  1.826323 -1.012262  \n",
       "159569  0.937812  0.897780  3.914562  0.660858 -9.422826 -2.776195  \n",
       "159570  0.351196 -1.995956  0.946170  1.824111 -2.795269 -3.321651  \n",
       "\n",
       "[159571 rows x 20 columns]"
      ]
     },
     "execution_count": 18,
     "metadata": {},
     "output_type": "execute_result"
    }
   ],
   "source": [
    "a = pd.DataFrame(d2v_list_train)\n",
    "a"
   ]
  },
  {
   "cell_type": "code",
   "execution_count": 20,
   "metadata": {},
   "outputs": [],
   "source": [
    "a.to_csv(\"train_word_embedding.csv\")"
   ]
  },
  {
   "cell_type": "markdown",
   "metadata": {},
   "source": [
    "# Train doc2vec based on test dataset "
   ]
  },
  {
   "cell_type": "code",
   "execution_count": 10,
   "metadata": {},
   "outputs": [
    {
     "name": "stderr",
     "output_type": "stream",
     "text": [
      "C:\\Users\\wanyi\\Anaconda3\\lib\\site-packages\\gensim\\models\\doc2vec.py:574: UserWarning: The parameter `size` is deprecated, will be removed in 4.0.0, use `vector_size` instead.\n",
      "  warnings.warn(\"The parameter `size` is deprecated, will be removed in 4.0.0, use `vector_size` instead.\")\n"
     ]
    }
   ],
   "source": [
    "max_epochs = 100\n",
    "vec_size = 20\n",
    "alpha = 0.025\n",
    "\n",
    "\n",
    "model = Doc2Vec(size=vec_size,\n",
    "                alpha=alpha, \n",
    "                min_alpha=0.00025,\n",
    "                min_count=1,\n",
    "                dm =1,\n",
    "                workers = 4)\n",
    "  \n",
    "model.build_vocab(tagged_data_test)"
   ]
  },
  {
   "cell_type": "code",
   "execution_count": 11,
   "metadata": {},
   "outputs": [
    {
     "name": "stdout",
     "output_type": "stream",
     "text": [
      "iteration 0\n"
     ]
    },
    {
     "name": "stderr",
     "output_type": "stream",
     "text": [
      "C:\\Users\\wanyi\\Anaconda3\\lib\\site-packages\\ipykernel_launcher.py:5: DeprecationWarning: Call to deprecated `iter` (Attribute will be removed in 4.0.0, use self.epochs instead).\n",
      "  \"\"\"\n"
     ]
    },
    {
     "name": "stdout",
     "output_type": "stream",
     "text": [
      "iteration 1\n",
      "iteration 2\n",
      "iteration 3\n",
      "iteration 4\n",
      "iteration 5\n",
      "iteration 6\n",
      "iteration 7\n",
      "iteration 8\n",
      "iteration 9\n",
      "iteration 10\n",
      "iteration 11\n",
      "iteration 12\n",
      "iteration 13\n",
      "iteration 14\n",
      "iteration 15\n",
      "iteration 16\n",
      "iteration 17\n",
      "iteration 18\n",
      "iteration 19\n",
      "iteration 20\n",
      "iteration 21\n",
      "iteration 22\n",
      "iteration 23\n",
      "iteration 24\n",
      "iteration 25\n",
      "iteration 26\n",
      "iteration 27\n",
      "iteration 28\n",
      "iteration 29\n",
      "iteration 30\n",
      "iteration 31\n",
      "iteration 32\n",
      "iteration 33\n",
      "iteration 34\n",
      "iteration 35\n",
      "iteration 36\n",
      "iteration 37\n",
      "iteration 38\n",
      "iteration 39\n",
      "iteration 40\n",
      "iteration 41\n",
      "iteration 42\n",
      "iteration 43\n",
      "iteration 44\n",
      "iteration 45\n",
      "iteration 46\n",
      "iteration 47\n",
      "iteration 48\n",
      "iteration 49\n",
      "iteration 50\n",
      "iteration 51\n",
      "iteration 52\n",
      "iteration 53\n",
      "iteration 54\n",
      "iteration 55\n",
      "iteration 56\n",
      "iteration 57\n",
      "iteration 58\n",
      "iteration 59\n",
      "iteration 60\n",
      "iteration 61\n",
      "iteration 62\n",
      "iteration 63\n",
      "iteration 64\n",
      "iteration 65\n",
      "iteration 66\n",
      "iteration 67\n",
      "iteration 68\n",
      "iteration 69\n",
      "iteration 70\n",
      "iteration 71\n",
      "iteration 72\n",
      "iteration 73\n",
      "iteration 74\n",
      "iteration 75\n",
      "iteration 76\n",
      "iteration 77\n",
      "iteration 78\n",
      "iteration 79\n",
      "iteration 80\n",
      "iteration 81\n",
      "iteration 82\n",
      "iteration 83\n",
      "iteration 84\n",
      "iteration 85\n",
      "iteration 86\n",
      "iteration 87\n",
      "iteration 88\n",
      "iteration 89\n",
      "iteration 90\n",
      "iteration 91\n",
      "iteration 92\n",
      "iteration 93\n",
      "iteration 94\n",
      "iteration 95\n",
      "iteration 96\n",
      "iteration 97\n",
      "iteration 98\n",
      "iteration 99\n"
     ]
    }
   ],
   "source": [
    "for epoch in range(max_epochs):\n",
    "    print('iteration {0}'.format(epoch))\n",
    "    model.train(tagged_data_test,\n",
    "                total_examples=model.corpus_count,\n",
    "                epochs=model.iter)"
   ]
  },
  {
   "cell_type": "code",
   "execution_count": 12,
   "metadata": {},
   "outputs": [
    {
     "name": "stdout",
     "output_type": "stream",
     "text": [
      "Model Saved\n"
     ]
    }
   ],
   "source": [
    "model.save(\"toxic.test.d2v.model\")\n",
    "print(\"Model Saved\")"
   ]
  },
  {
   "cell_type": "code",
   "execution_count": 13,
   "metadata": {},
   "outputs": [],
   "source": [
    "from gensim.models.doc2vec import Doc2Vec\n",
    "model= Doc2Vec.load(\"toxic.test.d2v.model\")"
   ]
  },
  {
   "cell_type": "code",
   "execution_count": 15,
   "metadata": {},
   "outputs": [],
   "source": [
    "d2v_list_test = []\n",
    "for i in range(len(test_clean_comment)):\n",
    "    d2v_list_test.append(model.docvecs[i].tolist())"
   ]
  },
  {
   "cell_type": "code",
   "execution_count": 16,
   "metadata": {},
   "outputs": [],
   "source": [
    "b = pd.DataFrame(d2v_list_test)"
   ]
  },
  {
   "cell_type": "code",
   "execution_count": 17,
   "metadata": {},
   "outputs": [
    {
     "data": {
      "text/html": [
       "<div>\n",
       "<style scoped>\n",
       "    .dataframe tbody tr th:only-of-type {\n",
       "        vertical-align: middle;\n",
       "    }\n",
       "\n",
       "    .dataframe tbody tr th {\n",
       "        vertical-align: top;\n",
       "    }\n",
       "\n",
       "    .dataframe thead th {\n",
       "        text-align: right;\n",
       "    }\n",
       "</style>\n",
       "<table border=\"1\" class=\"dataframe\">\n",
       "  <thead>\n",
       "    <tr style=\"text-align: right;\">\n",
       "      <th></th>\n",
       "      <th>0</th>\n",
       "      <th>1</th>\n",
       "      <th>2</th>\n",
       "      <th>3</th>\n",
       "      <th>4</th>\n",
       "      <th>5</th>\n",
       "      <th>6</th>\n",
       "      <th>7</th>\n",
       "      <th>8</th>\n",
       "      <th>9</th>\n",
       "      <th>10</th>\n",
       "      <th>11</th>\n",
       "      <th>12</th>\n",
       "      <th>13</th>\n",
       "      <th>14</th>\n",
       "      <th>15</th>\n",
       "      <th>16</th>\n",
       "      <th>17</th>\n",
       "      <th>18</th>\n",
       "      <th>19</th>\n",
       "    </tr>\n",
       "  </thead>\n",
       "  <tbody>\n",
       "    <tr>\n",
       "      <th>0</th>\n",
       "      <td>-1.806273</td>\n",
       "      <td>2.769480</td>\n",
       "      <td>7.929344</td>\n",
       "      <td>6.675649</td>\n",
       "      <td>-4.706311</td>\n",
       "      <td>-6.996445</td>\n",
       "      <td>-2.345618</td>\n",
       "      <td>5.439607</td>\n",
       "      <td>3.213091</td>\n",
       "      <td>-0.147735</td>\n",
       "      <td>2.606749</td>\n",
       "      <td>1.204772</td>\n",
       "      <td>1.163972</td>\n",
       "      <td>-3.164969</td>\n",
       "      <td>-2.037645</td>\n",
       "      <td>-4.959217</td>\n",
       "      <td>2.644438</td>\n",
       "      <td>3.311262</td>\n",
       "      <td>0.382187</td>\n",
       "      <td>-3.623845</td>\n",
       "    </tr>\n",
       "    <tr>\n",
       "      <th>1</th>\n",
       "      <td>-3.577630</td>\n",
       "      <td>-1.245620</td>\n",
       "      <td>2.017711</td>\n",
       "      <td>-1.328124</td>\n",
       "      <td>-0.995497</td>\n",
       "      <td>4.083107</td>\n",
       "      <td>1.539543</td>\n",
       "      <td>1.210770</td>\n",
       "      <td>1.773511</td>\n",
       "      <td>-1.068523</td>\n",
       "      <td>0.808555</td>\n",
       "      <td>-0.978705</td>\n",
       "      <td>2.303217</td>\n",
       "      <td>-0.609376</td>\n",
       "      <td>-3.437952</td>\n",
       "      <td>1.372475</td>\n",
       "      <td>-0.543199</td>\n",
       "      <td>1.762328</td>\n",
       "      <td>-5.951749</td>\n",
       "      <td>5.469892</td>\n",
       "    </tr>\n",
       "    <tr>\n",
       "      <th>2</th>\n",
       "      <td>-1.444373</td>\n",
       "      <td>1.720569</td>\n",
       "      <td>2.746601</td>\n",
       "      <td>-2.560223</td>\n",
       "      <td>-0.753479</td>\n",
       "      <td>-0.504860</td>\n",
       "      <td>1.496460</td>\n",
       "      <td>1.334342</td>\n",
       "      <td>2.013787</td>\n",
       "      <td>-2.275791</td>\n",
       "      <td>2.979666</td>\n",
       "      <td>-2.608837</td>\n",
       "      <td>1.853521</td>\n",
       "      <td>0.797301</td>\n",
       "      <td>2.468640</td>\n",
       "      <td>1.595606</td>\n",
       "      <td>2.137445</td>\n",
       "      <td>0.585808</td>\n",
       "      <td>0.345775</td>\n",
       "      <td>3.401003</td>\n",
       "    </tr>\n",
       "    <tr>\n",
       "      <th>3</th>\n",
       "      <td>-1.564404</td>\n",
       "      <td>-1.902157</td>\n",
       "      <td>3.825459</td>\n",
       "      <td>0.768180</td>\n",
       "      <td>0.641610</td>\n",
       "      <td>2.699550</td>\n",
       "      <td>5.056608</td>\n",
       "      <td>3.369725</td>\n",
       "      <td>9.162048</td>\n",
       "      <td>-2.424457</td>\n",
       "      <td>-4.356404</td>\n",
       "      <td>-4.019630</td>\n",
       "      <td>6.717706</td>\n",
       "      <td>0.528337</td>\n",
       "      <td>4.252129</td>\n",
       "      <td>1.493853</td>\n",
       "      <td>-0.110166</td>\n",
       "      <td>-0.165753</td>\n",
       "      <td>8.116542</td>\n",
       "      <td>-0.088203</td>\n",
       "    </tr>\n",
       "    <tr>\n",
       "      <th>4</th>\n",
       "      <td>-3.371700</td>\n",
       "      <td>-3.006193</td>\n",
       "      <td>3.719841</td>\n",
       "      <td>0.349276</td>\n",
       "      <td>-0.257635</td>\n",
       "      <td>-2.669048</td>\n",
       "      <td>0.160589</td>\n",
       "      <td>-1.104226</td>\n",
       "      <td>1.793853</td>\n",
       "      <td>0.493737</td>\n",
       "      <td>-0.111781</td>\n",
       "      <td>-2.918790</td>\n",
       "      <td>1.834481</td>\n",
       "      <td>-0.849663</td>\n",
       "      <td>1.827916</td>\n",
       "      <td>0.467795</td>\n",
       "      <td>1.563572</td>\n",
       "      <td>-2.586368</td>\n",
       "      <td>0.781435</td>\n",
       "      <td>0.802089</td>\n",
       "    </tr>\n",
       "    <tr>\n",
       "      <th>...</th>\n",
       "      <td>...</td>\n",
       "      <td>...</td>\n",
       "      <td>...</td>\n",
       "      <td>...</td>\n",
       "      <td>...</td>\n",
       "      <td>...</td>\n",
       "      <td>...</td>\n",
       "      <td>...</td>\n",
       "      <td>...</td>\n",
       "      <td>...</td>\n",
       "      <td>...</td>\n",
       "      <td>...</td>\n",
       "      <td>...</td>\n",
       "      <td>...</td>\n",
       "      <td>...</td>\n",
       "      <td>...</td>\n",
       "      <td>...</td>\n",
       "      <td>...</td>\n",
       "      <td>...</td>\n",
       "      <td>...</td>\n",
       "    </tr>\n",
       "    <tr>\n",
       "      <th>153158</th>\n",
       "      <td>-0.170893</td>\n",
       "      <td>3.504349</td>\n",
       "      <td>2.870374</td>\n",
       "      <td>-0.552698</td>\n",
       "      <td>1.507403</td>\n",
       "      <td>-0.993096</td>\n",
       "      <td>0.676894</td>\n",
       "      <td>-0.861931</td>\n",
       "      <td>2.504536</td>\n",
       "      <td>-2.958490</td>\n",
       "      <td>1.815544</td>\n",
       "      <td>0.398441</td>\n",
       "      <td>3.405276</td>\n",
       "      <td>-0.773539</td>\n",
       "      <td>-2.064767</td>\n",
       "      <td>0.931662</td>\n",
       "      <td>2.483968</td>\n",
       "      <td>-0.626348</td>\n",
       "      <td>-0.906814</td>\n",
       "      <td>1.856967</td>\n",
       "    </tr>\n",
       "    <tr>\n",
       "      <th>153159</th>\n",
       "      <td>3.719829</td>\n",
       "      <td>1.555865</td>\n",
       "      <td>0.091002</td>\n",
       "      <td>5.564526</td>\n",
       "      <td>1.222147</td>\n",
       "      <td>-2.037899</td>\n",
       "      <td>0.263615</td>\n",
       "      <td>-1.584570</td>\n",
       "      <td>4.887023</td>\n",
       "      <td>1.672040</td>\n",
       "      <td>3.946485</td>\n",
       "      <td>-0.172759</td>\n",
       "      <td>2.282086</td>\n",
       "      <td>4.637414</td>\n",
       "      <td>-3.195232</td>\n",
       "      <td>-2.353555</td>\n",
       "      <td>-4.089951</td>\n",
       "      <td>5.224297</td>\n",
       "      <td>0.751892</td>\n",
       "      <td>3.001931</td>\n",
       "    </tr>\n",
       "    <tr>\n",
       "      <th>153160</th>\n",
       "      <td>1.682727</td>\n",
       "      <td>-1.487592</td>\n",
       "      <td>3.519874</td>\n",
       "      <td>0.269769</td>\n",
       "      <td>7.871068</td>\n",
       "      <td>5.548923</td>\n",
       "      <td>-8.330526</td>\n",
       "      <td>-0.276777</td>\n",
       "      <td>-2.306298</td>\n",
       "      <td>-5.640341</td>\n",
       "      <td>-0.102955</td>\n",
       "      <td>-1.542186</td>\n",
       "      <td>5.428301</td>\n",
       "      <td>2.361869</td>\n",
       "      <td>-2.749600</td>\n",
       "      <td>1.079671</td>\n",
       "      <td>-1.181880</td>\n",
       "      <td>10.433649</td>\n",
       "      <td>0.154358</td>\n",
       "      <td>0.877934</td>\n",
       "    </tr>\n",
       "    <tr>\n",
       "      <th>153161</th>\n",
       "      <td>2.096318</td>\n",
       "      <td>-4.362475</td>\n",
       "      <td>4.954355</td>\n",
       "      <td>8.541159</td>\n",
       "      <td>6.343361</td>\n",
       "      <td>4.454705</td>\n",
       "      <td>-6.070333</td>\n",
       "      <td>-0.214468</td>\n",
       "      <td>2.582400</td>\n",
       "      <td>-1.916741</td>\n",
       "      <td>2.680521</td>\n",
       "      <td>1.028945</td>\n",
       "      <td>2.766598</td>\n",
       "      <td>6.826577</td>\n",
       "      <td>0.860334</td>\n",
       "      <td>-1.857750</td>\n",
       "      <td>3.300720</td>\n",
       "      <td>4.631460</td>\n",
       "      <td>4.969100</td>\n",
       "      <td>5.150886</td>\n",
       "    </tr>\n",
       "    <tr>\n",
       "      <th>153162</th>\n",
       "      <td>-3.716500</td>\n",
       "      <td>3.202105</td>\n",
       "      <td>1.214837</td>\n",
       "      <td>1.768386</td>\n",
       "      <td>0.676007</td>\n",
       "      <td>-4.539280</td>\n",
       "      <td>0.140248</td>\n",
       "      <td>0.391108</td>\n",
       "      <td>3.721516</td>\n",
       "      <td>0.632760</td>\n",
       "      <td>4.918694</td>\n",
       "      <td>-4.919255</td>\n",
       "      <td>0.925914</td>\n",
       "      <td>-5.688169</td>\n",
       "      <td>2.336233</td>\n",
       "      <td>-1.913600</td>\n",
       "      <td>3.211664</td>\n",
       "      <td>-3.455460</td>\n",
       "      <td>-0.318013</td>\n",
       "      <td>1.392801</td>\n",
       "    </tr>\n",
       "  </tbody>\n",
       "</table>\n",
       "<p>153163 rows × 20 columns</p>\n",
       "</div>"
      ],
      "text/plain": [
       "               0         1         2         3         4         5         6  \\\n",
       "0      -1.806273  2.769480  7.929344  6.675649 -4.706311 -6.996445 -2.345618   \n",
       "1      -3.577630 -1.245620  2.017711 -1.328124 -0.995497  4.083107  1.539543   \n",
       "2      -1.444373  1.720569  2.746601 -2.560223 -0.753479 -0.504860  1.496460   \n",
       "3      -1.564404 -1.902157  3.825459  0.768180  0.641610  2.699550  5.056608   \n",
       "4      -3.371700 -3.006193  3.719841  0.349276 -0.257635 -2.669048  0.160589   \n",
       "...          ...       ...       ...       ...       ...       ...       ...   \n",
       "153158 -0.170893  3.504349  2.870374 -0.552698  1.507403 -0.993096  0.676894   \n",
       "153159  3.719829  1.555865  0.091002  5.564526  1.222147 -2.037899  0.263615   \n",
       "153160  1.682727 -1.487592  3.519874  0.269769  7.871068  5.548923 -8.330526   \n",
       "153161  2.096318 -4.362475  4.954355  8.541159  6.343361  4.454705 -6.070333   \n",
       "153162 -3.716500  3.202105  1.214837  1.768386  0.676007 -4.539280  0.140248   \n",
       "\n",
       "               7         8         9        10        11        12        13  \\\n",
       "0       5.439607  3.213091 -0.147735  2.606749  1.204772  1.163972 -3.164969   \n",
       "1       1.210770  1.773511 -1.068523  0.808555 -0.978705  2.303217 -0.609376   \n",
       "2       1.334342  2.013787 -2.275791  2.979666 -2.608837  1.853521  0.797301   \n",
       "3       3.369725  9.162048 -2.424457 -4.356404 -4.019630  6.717706  0.528337   \n",
       "4      -1.104226  1.793853  0.493737 -0.111781 -2.918790  1.834481 -0.849663   \n",
       "...          ...       ...       ...       ...       ...       ...       ...   \n",
       "153158 -0.861931  2.504536 -2.958490  1.815544  0.398441  3.405276 -0.773539   \n",
       "153159 -1.584570  4.887023  1.672040  3.946485 -0.172759  2.282086  4.637414   \n",
       "153160 -0.276777 -2.306298 -5.640341 -0.102955 -1.542186  5.428301  2.361869   \n",
       "153161 -0.214468  2.582400 -1.916741  2.680521  1.028945  2.766598  6.826577   \n",
       "153162  0.391108  3.721516  0.632760  4.918694 -4.919255  0.925914 -5.688169   \n",
       "\n",
       "              14        15        16         17        18        19  \n",
       "0      -2.037645 -4.959217  2.644438   3.311262  0.382187 -3.623845  \n",
       "1      -3.437952  1.372475 -0.543199   1.762328 -5.951749  5.469892  \n",
       "2       2.468640  1.595606  2.137445   0.585808  0.345775  3.401003  \n",
       "3       4.252129  1.493853 -0.110166  -0.165753  8.116542 -0.088203  \n",
       "4       1.827916  0.467795  1.563572  -2.586368  0.781435  0.802089  \n",
       "...          ...       ...       ...        ...       ...       ...  \n",
       "153158 -2.064767  0.931662  2.483968  -0.626348 -0.906814  1.856967  \n",
       "153159 -3.195232 -2.353555 -4.089951   5.224297  0.751892  3.001931  \n",
       "153160 -2.749600  1.079671 -1.181880  10.433649  0.154358  0.877934  \n",
       "153161  0.860334 -1.857750  3.300720   4.631460  4.969100  5.150886  \n",
       "153162  2.336233 -1.913600  3.211664  -3.455460 -0.318013  1.392801  \n",
       "\n",
       "[153163 rows x 20 columns]"
      ]
     },
     "execution_count": 17,
     "metadata": {},
     "output_type": "execute_result"
    }
   ],
   "source": [
    "b"
   ]
  },
  {
   "cell_type": "code",
   "execution_count": 18,
   "metadata": {},
   "outputs": [],
   "source": [
    "b.to_csv(\"test_word_embedding.csv\")"
   ]
  },
  {
   "cell_type": "code",
   "execution_count": null,
   "metadata": {},
   "outputs": [],
   "source": []
  },
  {
   "cell_type": "markdown",
   "metadata": {},
   "source": [
    "# Clustering _ train"
   ]
  },
  {
   "cell_type": "code",
   "execution_count": 37,
   "metadata": {},
   "outputs": [],
   "source": [
    "train = pd.read_csv(\"C:/Users/wanyi/Desktop/Uchicago/Kaggle projects/Toxic Comments/Word Embedding (pre-model)/train_word_embedding.csv\")"
   ]
  },
  {
   "cell_type": "code",
   "execution_count": 38,
   "metadata": {},
   "outputs": [],
   "source": [
    "train_small = train.sample(frac=0.3)"
   ]
  },
  {
   "cell_type": "code",
   "execution_count": 14,
   "metadata": {},
   "outputs": [],
   "source": [
    "import pandas as pd\n",
    "import numpy as np\n",
    "import seaborn as sns\n",
    "import matplotlib as mpl\n",
    "import matplotlib.pyplot as plt\n",
    "import sklearn\n",
    "from sklearn.utils import check_random_state\n",
    "from sklearn.cluster import KMeans\n",
    "from sklearn.preprocessing import StandardScaler"
   ]
  },
  {
   "cell_type": "code",
   "execution_count": 39,
   "metadata": {},
   "outputs": [
    {
     "data": {
      "image/png": "[encoded data removed]",
      "text/plain": [
       "<Figure size 432x288 with 1 Axes>"
      ]
     },
     "metadata": {
      "needs_background": "light"
     },
     "output_type": "display_data"
    }
   ],
   "source": [
    "ks = range(1,20) \n",
    "inertias = []\n",
    "for k in ks:\n",
    "    model = KMeans(n_clusters=k, n_jobs = -1)\n",
    "    model.fit(train_small)\n",
    "    inertias.append(model.inertia_)\n",
    "    \n",
    "plt.plot(ks, inertias, '-o')\n",
    "plt.xlabel('number of clusters, k')\n",
    "plt.ylabel('inertia')\n",
    "plt.xticks()\n",
    "plt.show()"
   ]
  },
  {
   "cell_type": "code",
   "execution_count": 41,
   "metadata": {},
   "outputs": [
    {
     "name": "stdout",
     "output_type": "stream",
     "text": [
      "[0 0 1 ... 2 2 1]\n"
     ]
    }
   ],
   "source": [
    "model = KMeans(n_clusters = 3, n_jobs = -1,random_state = 1)\n",
    "labels = model.fit_predict(train_small)\n",
    "print(labels)"
   ]
  },
  {
   "cell_type": "code",
   "execution_count": 42,
   "metadata": {},
   "outputs": [
    {
     "data": {
      "text/plain": [
       "47871"
      ]
     },
     "execution_count": 42,
     "metadata": {},
     "output_type": "execute_result"
    }
   ],
   "source": [
    "len(labels)"
   ]
  },
  {
   "cell_type": "code",
   "execution_count": 19,
   "metadata": {},
   "outputs": [],
   "source": [
    "train_small['label'] = labels"
   ]
  },
  {
   "cell_type": "code",
   "execution_count": null,
   "metadata": {},
   "outputs": [],
   "source": []
  },
  {
   "cell_type": "markdown",
   "metadata": {},
   "source": [
    "# DBSCAN "
   ]
  },
  {
   "cell_type": "code",
   "execution_count": 43,
   "metadata": {},
   "outputs": [
    {
     "data": {
      "text/plain": [
       "[<matplotlib.lines.Line2D at 0x275e71b8908>]"
      ]
     },
     "execution_count": 43,
     "metadata": {},
     "output_type": "execute_result"
    },
    {
     "data": {
      "image/png": "[encoded data removed]",
      "text/plain": [
       "<Figure size 432x288 with 1 Axes>"
      ]
     },
     "metadata": {
      "needs_background": "light"
     },
     "output_type": "display_data"
    }
   ],
   "source": [
    "\n",
    "\n",
    "#Determine epsilon \n",
    "from sklearn.neighbors import NearestNeighbors\n",
    "import math\n",
    "\n",
    "nbrs = NearestNeighbors(n_neighbors = round(math.log(len(train_small))), n_jobs = -1).fit(train_small)\n",
    "distances, indices = nbrs.kneighbors(train_small)\n",
    "distances = np.sort(distances, axis=0)\n",
    "distances = distances[:,1]\n",
    "plt.plot(distances)\n",
    "\n"
   ]
  },
  {
   "cell_type": "code",
   "execution_count": 53,
   "metadata": {},
   "outputs": [
    {
     "data": {
      "text/plain": [
       "10.776265172078537"
      ]
     },
     "execution_count": 53,
     "metadata": {},
     "output_type": "execute_result"
    }
   ],
   "source": [
    "math.log(len(train_small))"
   ]
  },
  {
   "cell_type": "code",
   "execution_count": 70,
   "metadata": {},
   "outputs": [
    {
     "name": "stdout",
     "output_type": "stream",
     "text": [
      "[-1  0  1  2  3  4  5  6]\n"
     ]
    }
   ],
   "source": [
    "\n",
    "from sklearn.cluster import DBSCAN\n",
    "\n",
    "dbsc = DBSCAN(eps = 25 , min_samples = 21 ,n_jobs = -1).fit(train_small)\n",
    "labels = dbsc.labels_\n",
    "\n",
    "unique_labels = np.unique(labels)\n",
    "print(unique_labels)\n",
    "\n"
   ]
  },
  {
   "cell_type": "markdown",
   "metadata": {},
   "source": [
    "# TSNE  "
   ]
  },
  {
   "cell_type": "code",
   "execution_count": 71,
   "metadata": {},
   "outputs": [
    {
     "name": "stdout",
     "output_type": "stream",
     "text": [
      "[t-SNE] Computing 121 nearest neighbors...\n",
      "[t-SNE] Indexed 47871 samples in 0.203s...\n",
      "[t-SNE] Computed neighbors for 47871 samples in 1.896s...\n",
      "[t-SNE] Computed conditional probabilities for sample 1000 / 47871\n",
      "[t-SNE] Computed conditional probabilities for sample 2000 / 47871\n",
      "[t-SNE] Computed conditional probabilities for sample 3000 / 47871\n",
      "[t-SNE] Computed conditional probabilities for sample 4000 / 47871\n",
      "[t-SNE] Computed conditional probabilities for sample 5000 / 47871\n",
      "[t-SNE] Computed conditional probabilities for sample 6000 / 47871\n",
      "[t-SNE] Computed conditional probabilities for sample 7000 / 47871\n",
      "[t-SNE] Computed conditional probabilities for sample 8000 / 47871\n",
      "[t-SNE] Computed conditional probabilities for sample 9000 / 47871\n",
      "[t-SNE] Computed conditional probabilities for sample 10000 / 47871\n",
      "[t-SNE] Computed conditional probabilities for sample 11000 / 47871\n",
      "[t-SNE] Computed conditional probabilities for sample 12000 / 47871\n",
      "[t-SNE] Computed conditional probabilities for sample 13000 / 47871\n",
      "[t-SNE] Computed conditional probabilities for sample 14000 / 47871\n",
      "[t-SNE] Computed conditional probabilities for sample 15000 / 47871\n",
      "[t-SNE] Computed conditional probabilities for sample 16000 / 47871\n",
      "[t-SNE] Computed conditional probabilities for sample 17000 / 47871\n",
      "[t-SNE] Computed conditional probabilities for sample 18000 / 47871\n",
      "[t-SNE] Computed conditional probabilities for sample 19000 / 47871\n",
      "[t-SNE] Computed conditional probabilities for sample 20000 / 47871\n",
      "[t-SNE] Computed conditional probabilities for sample 21000 / 47871\n",
      "[t-SNE] Computed conditional probabilities for sample 22000 / 47871\n",
      "[t-SNE] Computed conditional probabilities for sample 23000 / 47871\n",
      "[t-SNE] Computed conditional probabilities for sample 24000 / 47871\n",
      "[t-SNE] Computed conditional probabilities for sample 25000 / 47871\n",
      "[t-SNE] Computed conditional probabilities for sample 26000 / 47871\n",
      "[t-SNE] Computed conditional probabilities for sample 27000 / 47871\n",
      "[t-SNE] Computed conditional probabilities for sample 28000 / 47871\n",
      "[t-SNE] Computed conditional probabilities for sample 29000 / 47871\n",
      "[t-SNE] Computed conditional probabilities for sample 30000 / 47871\n",
      "[t-SNE] Computed conditional probabilities for sample 31000 / 47871\n",
      "[t-SNE] Computed conditional probabilities for sample 32000 / 47871\n",
      "[t-SNE] Computed conditional probabilities for sample 33000 / 47871\n",
      "[t-SNE] Computed conditional probabilities for sample 34000 / 47871\n",
      "[t-SNE] Computed conditional probabilities for sample 35000 / 47871\n",
      "[t-SNE] Computed conditional probabilities for sample 36000 / 47871\n",
      "[t-SNE] Computed conditional probabilities for sample 37000 / 47871\n",
      "[t-SNE] Computed conditional probabilities for sample 38000 / 47871\n",
      "[t-SNE] Computed conditional probabilities for sample 39000 / 47871\n",
      "[t-SNE] Computed conditional probabilities for sample 40000 / 47871\n",
      "[t-SNE] Computed conditional probabilities for sample 41000 / 47871\n",
      "[t-SNE] Computed conditional probabilities for sample 42000 / 47871\n",
      "[t-SNE] Computed conditional probabilities for sample 43000 / 47871\n",
      "[t-SNE] Computed conditional probabilities for sample 44000 / 47871\n",
      "[t-SNE] Computed conditional probabilities for sample 45000 / 47871\n",
      "[t-SNE] Computed conditional probabilities for sample 46000 / 47871\n",
      "[t-SNE] Computed conditional probabilities for sample 47000 / 47871\n",
      "[t-SNE] Computed conditional probabilities for sample 47871 / 47871\n",
      "[t-SNE] Mean sigma: 12.841857\n",
      "[t-SNE] KL divergence after 250 iterations with early exaggeration: 80.161102\n",
      "[t-SNE] KL divergence after 300 iterations: 4.052696\n",
      "t-SNE done! Time elapsed: 228.5388424396515 seconds\n"
     ]
    }
   ],
   "source": [
    "from sklearn.manifold import TSNE\n",
    "import time\n",
    "\n",
    "time_start = time.time()\n",
    "tsne = TSNE(n_components=2, verbose=1, perplexity=40, n_iter=300,learning_rate = 100)\n",
    "tsne_results = tsne.fit_transform(train_small)\n",
    "print('t-SNE done! Time elapsed: {} seconds'.format(time.time()-time_start))\n"
   ]
  },
  {
   "cell_type": "code",
   "execution_count": 72,
   "metadata": {},
   "outputs": [],
   "source": [
    "pd.DataFrame(tsne_results).to_csv(\"tsne_result.csv\")"
   ]
  },
  {
   "cell_type": "code",
   "execution_count": 73,
   "metadata": {},
   "outputs": [],
   "source": [
    "tsne_df = pd.read_csv(\"C:/Users/wanyi/Desktop/Uchicago/Kaggle projects/Toxic Comments/Word Embedding (pre-model)/tsne_result.csv\")"
   ]
  },
  {
   "cell_type": "code",
   "execution_count": 76,
   "metadata": {},
   "outputs": [
    {
     "data": {
      "text/plain": [
       "<matplotlib.axes._subplots.AxesSubplot at 0x275ebc0f2b0>"
      ]
     },
     "execution_count": 76,
     "metadata": {},
     "output_type": "execute_result"
    },
    {
     "ename": "ValueError",
     "evalue": "Image size of 965x717742 pixels is too large. It must be less than 2^16 in each direction.",
     "output_type": "error",
     "traceback": [
      "\u001b[1;31m---------------------------------------------------------------------------\u001b[0m",
      "\u001b[1;31mValueError\u001b[0m                                Traceback (most recent call last)",
      "\u001b[1;32m~\\Anaconda3\\lib\\site-packages\\IPython\\core\\formatters.py\u001b[0m in \u001b[0;36m__call__\u001b[1;34m(self, obj)\u001b[0m\n\u001b[0;32m    339\u001b[0m                 \u001b[1;32mpass\u001b[0m\u001b[1;33m\u001b[0m\u001b[1;33m\u001b[0m\u001b[0m\n\u001b[0;32m    340\u001b[0m             \u001b[1;32melse\u001b[0m\u001b[1;33m:\u001b[0m\u001b[1;33m\u001b[0m\u001b[1;33m\u001b[0m\u001b[0m\n\u001b[1;32m--> 341\u001b[1;33m                 \u001b[1;32mreturn\u001b[0m \u001b[0mprinter\u001b[0m\u001b[1;33m(\u001b[0m\u001b[0mobj\u001b[0m\u001b[1;33m)\u001b[0m\u001b[1;33m\u001b[0m\u001b[1;33m\u001b[0m\u001b[0m\n\u001b[0m\u001b[0;32m    342\u001b[0m             \u001b[1;31m# Finally look for special method names\u001b[0m\u001b[1;33m\u001b[0m\u001b[1;33m\u001b[0m\u001b[1;33m\u001b[0m\u001b[0m\n\u001b[0;32m    343\u001b[0m             \u001b[0mmethod\u001b[0m \u001b[1;33m=\u001b[0m \u001b[0mget_real_method\u001b[0m\u001b[1;33m(\u001b[0m\u001b[0mobj\u001b[0m\u001b[1;33m,\u001b[0m \u001b[0mself\u001b[0m\u001b[1;33m.\u001b[0m\u001b[0mprint_method\u001b[0m\u001b[1;33m)\u001b[0m\u001b[1;33m\u001b[0m\u001b[1;33m\u001b[0m\u001b[0m\n",
      "\u001b[1;32m~\\Anaconda3\\lib\\site-packages\\IPython\\core\\pylabtools.py\u001b[0m in \u001b[0;36m<lambda>\u001b[1;34m(fig)\u001b[0m\n\u001b[0;32m    242\u001b[0m \u001b[1;33m\u001b[0m\u001b[0m\n\u001b[0;32m    243\u001b[0m     \u001b[1;32mif\u001b[0m \u001b[1;34m'png'\u001b[0m \u001b[1;32min\u001b[0m \u001b[0mformats\u001b[0m\u001b[1;33m:\u001b[0m\u001b[1;33m\u001b[0m\u001b[1;33m\u001b[0m\u001b[0m\n\u001b[1;32m--> 244\u001b[1;33m         \u001b[0mpng_formatter\u001b[0m\u001b[1;33m.\u001b[0m\u001b[0mfor_type\u001b[0m\u001b[1;33m(\u001b[0m\u001b[0mFigure\u001b[0m\u001b[1;33m,\u001b[0m \u001b[1;32mlambda\u001b[0m \u001b[0mfig\u001b[0m\u001b[1;33m:\u001b[0m \u001b[0mprint_figure\u001b[0m\u001b[1;33m(\u001b[0m\u001b[0mfig\u001b[0m\u001b[1;33m,\u001b[0m \u001b[1;34m'png'\u001b[0m\u001b[1;33m,\u001b[0m \u001b[1;33m**\u001b[0m\u001b[0mkwargs\u001b[0m\u001b[1;33m)\u001b[0m\u001b[1;33m)\u001b[0m\u001b[1;33m\u001b[0m\u001b[1;33m\u001b[0m\u001b[0m\n\u001b[0m\u001b[0;32m    245\u001b[0m     \u001b[1;32mif\u001b[0m \u001b[1;34m'retina'\u001b[0m \u001b[1;32min\u001b[0m \u001b[0mformats\u001b[0m \u001b[1;32mor\u001b[0m \u001b[1;34m'png2x'\u001b[0m \u001b[1;32min\u001b[0m \u001b[0mformats\u001b[0m\u001b[1;33m:\u001b[0m\u001b[1;33m\u001b[0m\u001b[1;33m\u001b[0m\u001b[0m\n\u001b[0;32m    246\u001b[0m         \u001b[0mpng_formatter\u001b[0m\u001b[1;33m.\u001b[0m\u001b[0mfor_type\u001b[0m\u001b[1;33m(\u001b[0m\u001b[0mFigure\u001b[0m\u001b[1;33m,\u001b[0m \u001b[1;32mlambda\u001b[0m \u001b[0mfig\u001b[0m\u001b[1;33m:\u001b[0m \u001b[0mretina_figure\u001b[0m\u001b[1;33m(\u001b[0m\u001b[0mfig\u001b[0m\u001b[1;33m,\u001b[0m \u001b[1;33m**\u001b[0m\u001b[0mkwargs\u001b[0m\u001b[1;33m)\u001b[0m\u001b[1;33m)\u001b[0m\u001b[1;33m\u001b[0m\u001b[1;33m\u001b[0m\u001b[0m\n",
      "\u001b[1;32m~\\Anaconda3\\lib\\site-packages\\IPython\\core\\pylabtools.py\u001b[0m in \u001b[0;36mprint_figure\u001b[1;34m(fig, fmt, bbox_inches, **kwargs)\u001b[0m\n\u001b[0;32m    126\u001b[0m \u001b[1;33m\u001b[0m\u001b[0m\n\u001b[0;32m    127\u001b[0m     \u001b[0mbytes_io\u001b[0m \u001b[1;33m=\u001b[0m \u001b[0mBytesIO\u001b[0m\u001b[1;33m(\u001b[0m\u001b[1;33m)\u001b[0m\u001b[1;33m\u001b[0m\u001b[1;33m\u001b[0m\u001b[0m\n\u001b[1;32m--> 128\u001b[1;33m     \u001b[0mfig\u001b[0m\u001b[1;33m.\u001b[0m\u001b[0mcanvas\u001b[0m\u001b[1;33m.\u001b[0m\u001b[0mprint_figure\u001b[0m\u001b[1;33m(\u001b[0m\u001b[0mbytes_io\u001b[0m\u001b[1;33m,\u001b[0m \u001b[1;33m**\u001b[0m\u001b[0mkw\u001b[0m\u001b[1;33m)\u001b[0m\u001b[1;33m\u001b[0m\u001b[1;33m\u001b[0m\u001b[0m\n\u001b[0m\u001b[0;32m    129\u001b[0m     \u001b[0mdata\u001b[0m \u001b[1;33m=\u001b[0m \u001b[0mbytes_io\u001b[0m\u001b[1;33m.\u001b[0m\u001b[0mgetvalue\u001b[0m\u001b[1;33m(\u001b[0m\u001b[1;33m)\u001b[0m\u001b[1;33m\u001b[0m\u001b[1;33m\u001b[0m\u001b[0m\n\u001b[0;32m    130\u001b[0m     \u001b[1;32mif\u001b[0m \u001b[0mfmt\u001b[0m \u001b[1;33m==\u001b[0m \u001b[1;34m'svg'\u001b[0m\u001b[1;33m:\u001b[0m\u001b[1;33m\u001b[0m\u001b[1;33m\u001b[0m\u001b[0m\n",
      "\u001b[1;32m~\\Anaconda3\\lib\\site-packages\\matplotlib\\backend_bases.py\u001b[0m in \u001b[0;36mprint_figure\u001b[1;34m(self, filename, dpi, facecolor, edgecolor, orientation, format, bbox_inches, **kwargs)\u001b[0m\n\u001b[0;32m   2080\u001b[0m                     \u001b[0morientation\u001b[0m\u001b[1;33m=\u001b[0m\u001b[0morientation\u001b[0m\u001b[1;33m,\u001b[0m\u001b[1;33m\u001b[0m\u001b[1;33m\u001b[0m\u001b[0m\n\u001b[0;32m   2081\u001b[0m                     \u001b[0mbbox_inches_restore\u001b[0m\u001b[1;33m=\u001b[0m\u001b[0m_bbox_inches_restore\u001b[0m\u001b[1;33m,\u001b[0m\u001b[1;33m\u001b[0m\u001b[1;33m\u001b[0m\u001b[0m\n\u001b[1;32m-> 2082\u001b[1;33m                     **kwargs)\n\u001b[0m\u001b[0;32m   2083\u001b[0m             \u001b[1;32mfinally\u001b[0m\u001b[1;33m:\u001b[0m\u001b[1;33m\u001b[0m\u001b[1;33m\u001b[0m\u001b[0m\n\u001b[0;32m   2084\u001b[0m                 \u001b[1;32mif\u001b[0m \u001b[0mbbox_inches\u001b[0m \u001b[1;32mand\u001b[0m \u001b[0mrestore_bbox\u001b[0m\u001b[1;33m:\u001b[0m\u001b[1;33m\u001b[0m\u001b[1;33m\u001b[0m\u001b[0m\n",
      "\u001b[1;32m~\\Anaconda3\\lib\\site-packages\\matplotlib\\backends\\backend_agg.py\u001b[0m in \u001b[0;36mprint_png\u001b[1;34m(self, filename_or_obj, metadata, pil_kwargs, *args, **kwargs)\u001b[0m\n\u001b[0;32m    525\u001b[0m \u001b[1;33m\u001b[0m\u001b[0m\n\u001b[0;32m    526\u001b[0m         \u001b[1;32melse\u001b[0m\u001b[1;33m:\u001b[0m\u001b[1;33m\u001b[0m\u001b[1;33m\u001b[0m\u001b[0m\n\u001b[1;32m--> 527\u001b[1;33m             \u001b[0mFigureCanvasAgg\u001b[0m\u001b[1;33m.\u001b[0m\u001b[0mdraw\u001b[0m\u001b[1;33m(\u001b[0m\u001b[0mself\u001b[0m\u001b[1;33m)\u001b[0m\u001b[1;33m\u001b[0m\u001b[1;33m\u001b[0m\u001b[0m\n\u001b[0m\u001b[0;32m    528\u001b[0m             \u001b[0mrenderer\u001b[0m \u001b[1;33m=\u001b[0m \u001b[0mself\u001b[0m\u001b[1;33m.\u001b[0m\u001b[0mget_renderer\u001b[0m\u001b[1;33m(\u001b[0m\u001b[1;33m)\u001b[0m\u001b[1;33m\u001b[0m\u001b[1;33m\u001b[0m\u001b[0m\n\u001b[0;32m    529\u001b[0m             \u001b[1;32mwith\u001b[0m \u001b[0mcbook\u001b[0m\u001b[1;33m.\u001b[0m\u001b[0m_setattr_cm\u001b[0m\u001b[1;33m(\u001b[0m\u001b[0mrenderer\u001b[0m\u001b[1;33m,\u001b[0m \u001b[0mdpi\u001b[0m\u001b[1;33m=\u001b[0m\u001b[0mself\u001b[0m\u001b[1;33m.\u001b[0m\u001b[0mfigure\u001b[0m\u001b[1;33m.\u001b[0m\u001b[0mdpi\u001b[0m\u001b[1;33m)\u001b[0m\u001b[1;33m,\u001b[0m\u001b[0;31m \u001b[0m\u001b[0;31m\\\u001b[0m\u001b[1;33m\u001b[0m\u001b[1;33m\u001b[0m\u001b[0m\n",
      "\u001b[1;32m~\\Anaconda3\\lib\\site-packages\\matplotlib\\backends\\backend_agg.py\u001b[0m in \u001b[0;36mdraw\u001b[1;34m(self)\u001b[0m\n\u001b[0;32m    384\u001b[0m         \u001b[0mDraw\u001b[0m \u001b[0mthe\u001b[0m \u001b[0mfigure\u001b[0m \u001b[0musing\u001b[0m \u001b[0mthe\u001b[0m \u001b[0mrenderer\u001b[0m\u001b[1;33m.\u001b[0m\u001b[1;33m\u001b[0m\u001b[1;33m\u001b[0m\u001b[0m\n\u001b[0;32m    385\u001b[0m         \"\"\"\n\u001b[1;32m--> 386\u001b[1;33m         \u001b[0mself\u001b[0m\u001b[1;33m.\u001b[0m\u001b[0mrenderer\u001b[0m \u001b[1;33m=\u001b[0m \u001b[0mself\u001b[0m\u001b[1;33m.\u001b[0m\u001b[0mget_renderer\u001b[0m\u001b[1;33m(\u001b[0m\u001b[0mcleared\u001b[0m\u001b[1;33m=\u001b[0m\u001b[1;32mTrue\u001b[0m\u001b[1;33m)\u001b[0m\u001b[1;33m\u001b[0m\u001b[1;33m\u001b[0m\u001b[0m\n\u001b[0m\u001b[0;32m    387\u001b[0m         \u001b[1;32mwith\u001b[0m \u001b[0mRendererAgg\u001b[0m\u001b[1;33m.\u001b[0m\u001b[0mlock\u001b[0m\u001b[1;33m:\u001b[0m\u001b[1;33m\u001b[0m\u001b[1;33m\u001b[0m\u001b[0m\n\u001b[0;32m    388\u001b[0m             \u001b[0mself\u001b[0m\u001b[1;33m.\u001b[0m\u001b[0mfigure\u001b[0m\u001b[1;33m.\u001b[0m\u001b[0mdraw\u001b[0m\u001b[1;33m(\u001b[0m\u001b[0mself\u001b[0m\u001b[1;33m.\u001b[0m\u001b[0mrenderer\u001b[0m\u001b[1;33m)\u001b[0m\u001b[1;33m\u001b[0m\u001b[1;33m\u001b[0m\u001b[0m\n",
      "\u001b[1;32m~\\Anaconda3\\lib\\site-packages\\matplotlib\\backends\\backend_agg.py\u001b[0m in \u001b[0;36mget_renderer\u001b[1;34m(self, cleared)\u001b[0m\n\u001b[0;32m    397\u001b[0m                           and getattr(self, \"_lastKey\", None) == key)\n\u001b[0;32m    398\u001b[0m         \u001b[1;32mif\u001b[0m \u001b[1;32mnot\u001b[0m \u001b[0mreuse_renderer\u001b[0m\u001b[1;33m:\u001b[0m\u001b[1;33m\u001b[0m\u001b[1;33m\u001b[0m\u001b[0m\n\u001b[1;32m--> 399\u001b[1;33m             \u001b[0mself\u001b[0m\u001b[1;33m.\u001b[0m\u001b[0mrenderer\u001b[0m \u001b[1;33m=\u001b[0m \u001b[0mRendererAgg\u001b[0m\u001b[1;33m(\u001b[0m\u001b[0mw\u001b[0m\u001b[1;33m,\u001b[0m \u001b[0mh\u001b[0m\u001b[1;33m,\u001b[0m \u001b[0mself\u001b[0m\u001b[1;33m.\u001b[0m\u001b[0mfigure\u001b[0m\u001b[1;33m.\u001b[0m\u001b[0mdpi\u001b[0m\u001b[1;33m)\u001b[0m\u001b[1;33m\u001b[0m\u001b[1;33m\u001b[0m\u001b[0m\n\u001b[0m\u001b[0;32m    400\u001b[0m             \u001b[0mself\u001b[0m\u001b[1;33m.\u001b[0m\u001b[0m_lastKey\u001b[0m \u001b[1;33m=\u001b[0m \u001b[0mkey\u001b[0m\u001b[1;33m\u001b[0m\u001b[1;33m\u001b[0m\u001b[0m\n\u001b[0;32m    401\u001b[0m         \u001b[1;32melif\u001b[0m \u001b[0mcleared\u001b[0m\u001b[1;33m:\u001b[0m\u001b[1;33m\u001b[0m\u001b[1;33m\u001b[0m\u001b[0m\n",
      "\u001b[1;32m~\\Anaconda3\\lib\\site-packages\\matplotlib\\backends\\backend_agg.py\u001b[0m in \u001b[0;36m__init__\u001b[1;34m(self, width, height, dpi)\u001b[0m\n\u001b[0;32m     84\u001b[0m         \u001b[0mself\u001b[0m\u001b[1;33m.\u001b[0m\u001b[0mwidth\u001b[0m \u001b[1;33m=\u001b[0m \u001b[0mwidth\u001b[0m\u001b[1;33m\u001b[0m\u001b[1;33m\u001b[0m\u001b[0m\n\u001b[0;32m     85\u001b[0m         \u001b[0mself\u001b[0m\u001b[1;33m.\u001b[0m\u001b[0mheight\u001b[0m \u001b[1;33m=\u001b[0m \u001b[0mheight\u001b[0m\u001b[1;33m\u001b[0m\u001b[1;33m\u001b[0m\u001b[0m\n\u001b[1;32m---> 86\u001b[1;33m         \u001b[0mself\u001b[0m\u001b[1;33m.\u001b[0m\u001b[0m_renderer\u001b[0m \u001b[1;33m=\u001b[0m \u001b[0m_RendererAgg\u001b[0m\u001b[1;33m(\u001b[0m\u001b[0mint\u001b[0m\u001b[1;33m(\u001b[0m\u001b[0mwidth\u001b[0m\u001b[1;33m)\u001b[0m\u001b[1;33m,\u001b[0m \u001b[0mint\u001b[0m\u001b[1;33m(\u001b[0m\u001b[0mheight\u001b[0m\u001b[1;33m)\u001b[0m\u001b[1;33m,\u001b[0m \u001b[0mdpi\u001b[0m\u001b[1;33m)\u001b[0m\u001b[1;33m\u001b[0m\u001b[1;33m\u001b[0m\u001b[0m\n\u001b[0m\u001b[0;32m     87\u001b[0m         \u001b[0mself\u001b[0m\u001b[1;33m.\u001b[0m\u001b[0m_filter_renderers\u001b[0m \u001b[1;33m=\u001b[0m \u001b[1;33m[\u001b[0m\u001b[1;33m]\u001b[0m\u001b[1;33m\u001b[0m\u001b[1;33m\u001b[0m\u001b[0m\n\u001b[0;32m     88\u001b[0m \u001b[1;33m\u001b[0m\u001b[0m\n",
      "\u001b[1;31mValueError\u001b[0m: Image size of 965x717742 pixels is too large. It must be less than 2^16 in each direction."
     ]
    },
    {
     "data": {
      "text/plain": [
       "<Figure size 1152x720 with 1 Axes>"
      ]
     },
     "metadata": {
      "needs_background": "light"
     },
     "output_type": "display_data"
    }
   ],
   "source": [
    "plt.figure(figsize=(16,10))\n",
    "sns.scatterplot(\n",
    "    x=\"0\", y=\"1\",\n",
    "    hue=\"1\",\n",
    "    #palette=sns.color_palette(\"hls\", 100),\n",
    "    data=tsne_df,\n",
    "    legend=\"full\",\n",
    "    alpha=0.3\n",
    ")"
   ]
  }
 ],
 "metadata": {
  "kernelspec": {
   "display_name": "Python 3",
   "language": "python",
   "name": "python3"
  },
  "language_info": {
   "codemirror_mode": {
    "name": "ipython",
    "version": 3
   },
   "file_extension": ".py",
   "mimetype": "text/x-python",
   "name": "python",
   "nbconvert_exporter": "python",
   "pygments_lexer": "ipython3",
   "version": "3.7.3"
  }
 },
 "nbformat": 4,
 "nbformat_minor": 2
}
