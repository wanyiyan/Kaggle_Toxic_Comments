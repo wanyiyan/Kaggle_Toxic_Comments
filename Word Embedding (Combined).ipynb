{
 "cells": [
  {
   "cell_type": "markdown",
   "metadata": {},
   "source": [
    "# Word Embedding Combined train+test for RCC"
   ]
  },
  {
   "cell_type": "code",
   "execution_count": 1,
   "metadata": {},
   "outputs": [
    {
     "name": "stderr",
     "output_type": "stream",
     "text": [
      "C:\\Users\\wanyi\\Anaconda3\\lib\\site-packages\\statsmodels\\tools\\_testing.py:19: FutureWarning: pandas.util.testing is deprecated. Use the functions in the public API at pandas.testing instead.\n",
      "  import pandas.util.testing as tm\n"
     ]
    }
   ],
   "source": [
    "import pandas as pd\n",
    "from gensim.models.doc2vec import Doc2Vec, TaggedDocument\n",
    "from nltk.tokenize import word_tokenize\n",
    "import seaborn as sns\n",
    "import matplotlib.pyplot as plt\n"
   ]
  },
  {
   "cell_type": "code",
   "execution_count": 2,
   "metadata": {},
   "outputs": [],
   "source": [
    "train_clean = pd.read_csv(\"C:/Users/wanyi/Desktop/Uchicago/Kaggle projects/Toxic Comments/Word Embedding (pre-model)/train_clean.csv\")\n",
    "test_clean  = pd.read_csv(\"C:/Users/wanyi/Desktop/Uchicago/Kaggle projects/Toxic Comments/Word Embedding (pre-model)/test_clean.csv\")"
   ]
  },
  {
   "cell_type": "code",
   "execution_count": 3,
   "metadata": {},
   "outputs": [
    {
     "name": "stdout",
     "output_type": "stream",
     "text": [
      "[4482, 23529, 151379]\n",
      "[6533, 45734, 82422, 98165, 107815, 118017, 119922, 121816, 139225]\n"
     ]
    }
   ],
   "source": [
    "### Train  \n",
    "### finding all the rows not in str format but float \n",
    "train_clean_comment = train_clean.comment_text_clean.tolist()\n",
    "\n",
    "train_list_not_string =[]\n",
    "for i in range(len(train_clean_comment)):\n",
    "    if type((train_clean_comment[i])) != str:\n",
    "        train_list_not_string.append(i)\n",
    "\n",
    "print(train_list_not_string)\n",
    "        \n",
    "for i in train_list_not_string:\n",
    "    train_clean_comment[i] = str(train_clean_comment[i])\n",
    "    \n",
    "    \n",
    "### Test\n",
    "### finding all the rows not in str format but float \n",
    "\n",
    "test_clean_comment = test_clean.comment_text_clean.tolist()\n",
    "\n",
    "test_list_not_string =[]\n",
    "for i in range(len(test_clean_comment)):\n",
    "    if type((test_clean_comment[i])) != str:\n",
    "        test_list_not_string.append(i)\n",
    "\n",
    "print(test_list_not_string)\n",
    "        \n",
    "for i in test_list_not_string:\n",
    "    test_clean_comment[i] = str(test_clean_comment[i])"
   ]
  },
  {
   "cell_type": "code",
   "execution_count": 4,
   "metadata": {},
   "outputs": [],
   "source": [
    "combined_list = test_clean_comment+train_clean_comment"
   ]
  },
  {
   "cell_type": "code",
   "execution_count": 5,
   "metadata": {},
   "outputs": [],
   "source": [
    "tagged_data_combined = [TaggedDocument(words=word_tokenize(_d.lower()), tags=[(i)]) for i, _d in enumerate(combined_list)]"
   ]
  },
  {
   "cell_type": "markdown",
   "metadata": {},
   "source": [
    "# Doc2Vec model"
   ]
  },
  {
   "cell_type": "code",
   "execution_count": 10,
   "metadata": {},
   "outputs": [
    {
     "name": "stderr",
     "output_type": "stream",
     "text": [
      "C:\\Users\\wanyi\\Anaconda3\\lib\\site-packages\\gensim\\models\\doc2vec.py:574: UserWarning: The parameter `size` is deprecated, will be removed in 4.0.0, use `vector_size` instead.\n",
      "  warnings.warn(\"The parameter `size` is deprecated, will be removed in 4.0.0, use `vector_size` instead.\")\n"
     ]
    }
   ],
   "source": [
    "max_epochs = 100\n",
    "vec_size = 200\n",
    "alpha = 0.025\n",
    "\n",
    "model = Doc2Vec(size=vec_size,\n",
    "                alpha=alpha, \n",
    "                min_alpha=0.00025,\n",
    "                min_count=1,\n",
    "                dm =1)\n",
    "model.build_vocab(tagged_data_combined)"
   ]
  },
  {
   "cell_type": "code",
   "execution_count": 11,
   "metadata": {},
   "outputs": [
    {
     "name": "stderr",
     "output_type": "stream",
     "text": [
      "C:\\Users\\wanyi\\Anaconda3\\lib\\site-packages\\ipykernel_launcher.py:5: DeprecationWarning: Call to deprecated `iter` (Attribute will be removed in 4.0.0, use self.epochs instead).\n",
      "  \"\"\"\n"
     ]
    },
    {
     "name": "stdout",
     "output_type": "stream",
     "text": [
      "iteration 0\n",
      "iteration 1\n",
      "iteration 2\n",
      "iteration 3\n",
      "iteration 4\n",
      "iteration 5\n",
      "iteration 6\n",
      "iteration 7\n",
      "iteration 8\n",
      "iteration 9\n",
      "iteration 10\n",
      "iteration 11\n",
      "iteration 12\n",
      "iteration 13\n",
      "iteration 14\n",
      "iteration 15\n",
      "iteration 16\n",
      "iteration 17\n",
      "iteration 18\n",
      "iteration 19\n",
      "iteration 20\n",
      "iteration 21\n",
      "iteration 22\n",
      "iteration 23\n",
      "iteration 24\n",
      "iteration 25\n",
      "iteration 26\n",
      "iteration 27\n",
      "iteration 28\n",
      "iteration 29\n",
      "iteration 30\n",
      "iteration 31\n",
      "iteration 32\n",
      "iteration 33\n",
      "iteration 34\n",
      "iteration 35\n",
      "iteration 36\n",
      "iteration 37\n",
      "iteration 38\n",
      "iteration 39\n",
      "iteration 40\n",
      "iteration 41\n",
      "iteration 42\n",
      "iteration 43\n",
      "iteration 44\n",
      "iteration 45\n",
      "iteration 46\n",
      "iteration 47\n",
      "iteration 48\n",
      "iteration 49\n",
      "iteration 50\n",
      "iteration 51\n",
      "iteration 52\n",
      "iteration 53\n",
      "iteration 54\n",
      "iteration 55\n",
      "iteration 56\n",
      "iteration 57\n",
      "iteration 58\n",
      "iteration 59\n",
      "iteration 60\n",
      "iteration 61\n",
      "iteration 62\n",
      "iteration 63\n",
      "iteration 64\n",
      "iteration 65\n",
      "iteration 66\n",
      "iteration 67\n",
      "iteration 68\n",
      "iteration 69\n",
      "iteration 70\n",
      "iteration 71\n",
      "iteration 72\n",
      "iteration 73\n",
      "iteration 74\n",
      "iteration 75\n",
      "iteration 76\n",
      "iteration 77\n",
      "iteration 78\n",
      "iteration 79\n",
      "iteration 80\n",
      "iteration 81\n",
      "iteration 82\n",
      "iteration 83\n",
      "iteration 84\n",
      "iteration 85\n",
      "iteration 86\n",
      "iteration 87\n",
      "iteration 88\n",
      "iteration 89\n",
      "iteration 90\n",
      "iteration 91\n",
      "iteration 92\n",
      "iteration 93\n",
      "iteration 94\n",
      "iteration 95\n",
      "iteration 96\n",
      "iteration 97\n",
      "iteration 98\n",
      "iteration 99\n"
     ]
    }
   ],
   "source": [
    "for epoch in range(max_epochs):\n",
    "    print('iteration {0}'.format(epoch))\n",
    "    model.train(tagged_data_combined,\n",
    "                total_examples=model.corpus_count,\n",
    "                epochs=model.iter)\n",
    "    # decrease the learning rate\n",
    "    model.alpha -= 0.0002\n",
    "    # fix the learning rate, no decay\n",
    "    model.min_alpha = model.alpha"
   ]
  },
  {
   "cell_type": "code",
   "execution_count": 12,
   "metadata": {},
   "outputs": [
    {
     "name": "stdout",
     "output_type": "stream",
     "text": [
      "Model Saved\n"
     ]
    }
   ],
   "source": [
    "model.save(\"combined.d2v.model\")\n",
    "print(\"Model Saved Successfully\")"
   ]
  },
  {
   "cell_type": "code",
   "execution_count": 6,
   "metadata": {},
   "outputs": [
    {
     "name": "stdout",
     "output_type": "stream",
     "text": [
      "Succeessfully loaded model\n"
     ]
    }
   ],
   "source": [
    "from gensim.models.doc2vec import Doc2Vec\n",
    "combined_model= Doc2Vec.load(\"combined.d2v.model\")\n",
    "print(\"Succeessfully loaded model\")"
   ]
  },
  {
   "cell_type": "code",
   "execution_count": 31,
   "metadata": {},
   "outputs": [],
   "source": [
    "all_d2v_list = []\n",
    "for i in range(len(combined_list)):\n",
    "    all_d2v_list.append(combined_model.docvecs[i].tolist())\n",
    "\n",
    "train_splitted = pd.DataFrame(all_d2v_list)\n",
    "train_splitted.to_csv(\"all_d2v_list.csv\")"
   ]
  },
  {
   "cell_type": "code",
   "execution_count": 30,
   "metadata": {},
   "outputs": [
    {
     "data": {
      "text/plain": [
       "312734"
      ]
     },
     "execution_count": 30,
     "metadata": {},
     "output_type": "execute_result"
    }
   ],
   "source": [
    "len(combined_list)"
   ]
  },
  {
   "cell_type": "code",
   "execution_count": 39,
   "metadata": {},
   "outputs": [],
   "source": [
    "train_d2v_list = []\n",
    "for i in range(len(train_clean_comment)):\n",
    "    train_d2v_list.append(combined_model.docvecs[i].tolist())\n",
    "\n",
    "train_splitted = pd.DataFrame(train_d2v_list)\n",
    "train_splitted.to_csv(\"train_splitted.csv\")"
   ]
  },
  {
   "cell_type": "code",
   "execution_count": 35,
   "metadata": {},
   "outputs": [],
   "source": [
    "test_d2v_list = []\n",
    "for i in range(len(train_clean_comment),len(combined_list)):\n",
    "    test_d2v_list.append(combined_model.docvecs[i].tolist())\n",
    "\n",
    "test_splitted = pd.DataFrame(test_d2v_list)\n",
    "test_splitted.to_csv(\"test_splitted.csv\")"
   ]
  },
  {
   "cell_type": "code",
   "execution_count": 42,
   "metadata": {},
   "outputs": [],
   "source": [
    "train_splitted = pd.read_csv(\"C:/Users/wanyi/Desktop/Uchicago/Kaggle projects/Toxic Comments/Word Embedding (pre-model)/train_splitted.csv\")\n",
    "test_splitted = pd.read_csv(\"C:/Users/wanyi/Desktop/Uchicago/Kaggle projects/Toxic Comments/Word Embedding (pre-model)/test_splitted.csv\")\n",
    "all_d2v_list = pd.read_csv(\"C:/Users/wanyi/Desktop/Uchicago/Kaggle projects/Toxic Comments/Word Embedding (pre-model)/all_d2v_list.csv\")"
   ]
  },
  {
   "cell_type": "code",
   "execution_count": 43,
   "metadata": {},
   "outputs": [
    {
     "name": "stdout",
     "output_type": "stream",
     "text": [
      "train shape (159571, 201)\n",
      "test shape (153163, 201)\n",
      "combined shape (312734, 201)\n"
     ]
    }
   ],
   "source": [
    "print(\"train shape {}\".format(train_splitted.shape))\n",
    "print(\"test shape {}\".format(test_splitted.shape))\n",
    "print(\"combined shape {}\".format(all_d2v_list.shape))"
   ]
  }
 ],
 "metadata": {
  "kernelspec": {
   "display_name": "Python 3",
   "language": "python",
   "name": "python3"
  },
  "language_info": {
   "codemirror_mode": {
    "name": "ipython",
    "version": 3
   },
   "file_extension": ".py",
   "mimetype": "text/x-python",
   "name": "python",
   "nbconvert_exporter": "python",
   "pygments_lexer": "ipython3",
   "version": "3.7.3"
  }
 },
 "nbformat": 4,
 "nbformat_minor": 2
}
